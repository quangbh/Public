{
 "cells": [
  {
   "cell_type": "code",
   "execution_count": 1,
   "id": "01d2ae8b",
   "metadata": {},
   "outputs": [],
   "source": [
    "import numpy as np\n",
    "import cv2\n",
    "\n",
    "# face detection setup\n",
    "face_cascade = cv2.CascadeClassifier(cv2.data.haarcascades + 'haarcascade_frontalface_default.xml')"
   ]
  },
  {
   "cell_type": "code",
   "execution_count": 2,
   "id": "79322e8d",
   "metadata": {},
   "outputs": [],
   "source": [
    "# load image in grayscale mode\n",
    "image = cv2.imread('mr-bean.jpg', 1)\n",
    "\n",
    "# convert to grayscale\n",
    "gray = cv2.cvtColor(image, cv2.COLOR_BGR2GRAY)"
   ]
  },
  {
   "cell_type": "code",
   "execution_count": 3,
   "id": "41872b91",
   "metadata": {},
   "outputs": [],
   "source": [
    "# create kernel - the area for calculating mean\n",
    "n = 13\n",
    "kernel = np.ones((n,n), np.float32) / (n**2)"
   ]
  },
  {
   "cell_type": "code",
   "execution_count": 4,
   "id": "d2a73121",
   "metadata": {},
   "outputs": [],
   "source": [
    "# face detection\n",
    "faces = face_cascade.detectMultiScale(gray, 1.1, 4)"
   ]
  },
  {
   "cell_type": "code",
   "execution_count": 5,
   "id": "718dc01f",
   "metadata": {},
   "outputs": [],
   "source": [
    "for (x, y, w, h) in faces:\n",
    "    # draw the rectangle around each face\n",
    "    cv2.rectangle(image, (x, y), (x+w, y+h), (0, 255, 0), 1)\n",
    "    roi = image[y:y+h, x:x+w]\n",
    "    \n",
    "    # compute mean for each pixel\n",
    "    roi = cv2.filter2D(roi, cv2.CV_8U, kernel)\n",
    "    \n",
    "    # update back to the image\n",
    "    image[y:y+h, x:x+w] = roi"
   ]
  },
  {
   "cell_type": "code",
   "execution_count": 6,
   "id": "c0bdbdac",
   "metadata": {},
   "outputs": [],
   "source": [
    "# show image\n",
    "cv2.imshow('image', image)\n",
    "\n",
    "# waiting for any keys pressed and close windows\n",
    "cv2.waitKey(0)\n",
    "cv2.destroyAllWindows()"
   ]
  }
 ],
 "metadata": {
  "kernelspec": {
   "display_name": "Python 3",
   "language": "python",
   "name": "python3"
  },
  "language_info": {
   "codemirror_mode": {
    "name": "ipython",
    "version": 3
   },
   "file_extension": ".py",
   "mimetype": "text/x-python",
   "name": "python",
   "nbconvert_exporter": "python",
   "pygments_lexer": "ipython3",
   "version": "3.8.8"
  }
 },
 "nbformat": 4,
 "nbformat_minor": 5
}
