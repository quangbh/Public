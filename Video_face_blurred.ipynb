{
 "cells": [
  {
   "cell_type": "code",
   "execution_count": null,
   "id": "1d38bcd5",
   "metadata": {},
   "outputs": [],
   "source": [
    "import numpy as np\n",
    "import cv2\n",
    "  \n",
    "# Load the cascade  \n",
    "face_cascade = cv2.CascadeClassifier(cv2.data.haarcascades + 'haarcascade_frontalface_default.xml')"
   ]
  },
  {
   "cell_type": "code",
   "execution_count": null,
   "id": "1dbe0f5c",
   "metadata": {},
   "outputs": [],
   "source": [
    "# create kernel - the area for calculating mean\n",
    "n = 13\n",
    "kernel = np.ones((n,n), np.float32) / (n**2)"
   ]
  },
  {
   "cell_type": "code",
   "execution_count": null,
   "id": "9ea33ad2",
   "metadata": {},
   "outputs": [],
   "source": [
    "# To capture video from existing video.   \n",
    "cap = cv2.VideoCapture('test.gif')"
   ]
  },
  {
   "cell_type": "code",
   "execution_count": null,
   "id": "efa657e6",
   "metadata": {},
   "outputs": [],
   "source": [
    "while True:  \n",
    "    # Read the frame  \n",
    "    _, img = cap.read()  \n",
    "    \n",
    "    # Convert to grayscale  \n",
    "    gray = cv2.cvtColor(img, cv2.COLOR_BGR2GRAY)  \n",
    "  \n",
    "    # Detect the faces  \n",
    "    faces = face_cascade.detectMultiScale(gray, 1.1, 4)  \n",
    "  \n",
    "    # Draw the rectangle around each face  \n",
    "    for (x, y, w, h) in faces:  \n",
    "        cv2.rectangle(img, (x, y), (x+w, y+h), (0, 255, 0), 1)  \n",
    "        roi = img[y:y+h, x:x+w]\n",
    "    \n",
    "        # compute mean for each pixel\n",
    "        roi = cv2.filter2D(roi, cv2.CV_8U, kernel)\n",
    "    \n",
    "        # update back to the image\n",
    "        img[y:y+h, x:x+w] = roi\n",
    "    \n",
    "    # Display  \n",
    "    cv2.imshow('Video', img)\n",
    "    \n",
    "    # Stop if escape key is pressed  \n",
    "    k = cv2.waitKey(30) & 0xff  \n",
    "    if k==27:  \n",
    "        break"
   ]
  },
  {
   "cell_type": "code",
   "execution_count": null,
   "id": "8a5db147",
   "metadata": {},
   "outputs": [],
   "source": [
    "# Release the VideoCapture object  \n",
    "cap.release()"
   ]
  }
 ],
 "metadata": {
  "kernelspec": {
   "display_name": "Python 3",
   "language": "python",
   "name": "python3"
  },
  "language_info": {
   "codemirror_mode": {
    "name": "ipython",
    "version": 3
   },
   "file_extension": ".py",
   "mimetype": "text/x-python",
   "name": "python",
   "nbconvert_exporter": "python",
   "pygments_lexer": "ipython3",
   "version": "3.8.8"
  }
 },
 "nbformat": 4,
 "nbformat_minor": 5
}
